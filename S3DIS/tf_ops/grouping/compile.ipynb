{
 "cells": [
  {
   "cell_type": "code",
   "execution_count": 5,
   "metadata": {},
   "outputs": [],
   "source": [
    "!sh tf_grouping_compile.sh"
   ]
  },
  {
   "cell_type": "code",
   "execution_count": 3,
   "metadata": {},
   "outputs": [
    {
     "name": "stdout",
     "output_type": "stream",
     "text": [
      "/bin/sh: 1: usr/local/lib/python3.5/dist-packages/tensorflow/include/tensorflow/core/framework/op.h: not found\r\n"
     ]
    }
   ],
   "source": [
    "!usr/local/lib/python3.5/dist-packages/tensorflow/include/tensorflow/core/framework/op.h -info"
   ]
  },
  {
   "cell_type": "code",
   "execution_count": 4,
   "metadata": {},
   "outputs": [
    {
     "name": "stdout",
     "output_type": "stream",
     "text": [
      "g++ (Ubuntu 5.4.0-6ubuntu1~16.04.11) 5.4.0 20160609\r\n",
      "Copyright (C) 2015 Free Software Foundation, Inc.\r\n",
      "This is free software; see the source for copying conditions.  There is NO\r\n",
      "warranty; not even for MERCHANTABILITY or FITNESS FOR A PARTICULAR PURPOSE.\r\n",
      "\r\n"
     ]
    }
   ],
   "source": [
    "!g++ --version"
   ]
  },
  {
   "cell_type": "code",
   "execution_count": 8,
   "metadata": {},
   "outputs": [
    {
     "name": "stdout",
     "output_type": "stream",
     "text": [
      "Usage: g++ [options] file...\r\n",
      "Options:\r\n",
      "  -pass-exit-codes         Exit with highest error code from a phase\r\n",
      "  --help                   Display this information\r\n",
      "  --target-help            Display target specific command line options\r\n",
      "  --help={common|optimizers|params|target|warnings|[^]{joined|separate|undocumented}}[,...]\r\n",
      "                           Display specific types of command line options\r\n",
      "  (Use '-v --help' to display command line options of sub-processes)\r\n",
      "  --version                Display compiler version information\r\n",
      "  -dumpspecs               Display all of the built in spec strings\r\n",
      "  -dumpversion             Display the version of the compiler\r\n",
      "  -dumpmachine             Display the compiler's target processor\r\n",
      "  -print-search-dirs       Display the directories in the compiler's search path\r\n",
      "  -print-libgcc-file-name  Display the name of the compiler's companion library\r\n",
      "  -print-file-name=<lib>   Display the full path to library <lib>\r\n",
      "  -print-prog-name=<prog>  Display the full path to compiler component <prog>\r\n",
      "  -print-multiarch         Display the target's normalized GNU triplet, used as\r\n",
      "                           a component in the library path\r\n",
      "  -print-multi-directory   Display the root directory for versions of libgcc\r\n",
      "  -print-multi-lib         Display the mapping between command line options and\r\n",
      "                           multiple library search directories\r\n",
      "  -print-multi-os-directory Display the relative path to OS libraries\r\n",
      "  -print-sysroot           Display the target libraries directory\r\n",
      "  -print-sysroot-headers-suffix Display the sysroot suffix used to find headers\r\n",
      "  -Wa,<options>            Pass comma-separated <options> on to the assembler\r\n",
      "  -Wp,<options>            Pass comma-separated <options> on to the preprocessor\r\n",
      "  -Wl,<options>            Pass comma-separated <options> on to the linker\r\n",
      "  -Xassembler <arg>        Pass <arg> on to the assembler\r\n",
      "  -Xpreprocessor <arg>     Pass <arg> on to the preprocessor\r\n",
      "  -Xlinker <arg>           Pass <arg> on to the linker\r\n",
      "  -save-temps              Do not delete intermediate files\r\n",
      "  -save-temps=<arg>        Do not delete intermediate files\r\n",
      "  -no-canonical-prefixes   Do not canonicalize paths when building relative\r\n",
      "                           prefixes to other gcc components\r\n",
      "  -pipe                    Use pipes rather than intermediate files\r\n",
      "  -time                    Time the execution of each subprocess\r\n",
      "  -specs=<file>            Override built-in specs with the contents of <file>\r\n",
      "  -std=<standard>          Assume that the input sources are for <standard>\r\n",
      "  --sysroot=<directory>    Use <directory> as the root directory for headers\r\n",
      "                           and libraries\r\n",
      "  -B <directory>           Add <directory> to the compiler's search paths\r\n",
      "  -v                       Display the programs invoked by the compiler\r\n",
      "  -###                     Like -v but options quoted and commands not executed\r\n",
      "  -E                       Preprocess only; do not compile, assemble or link\r\n",
      "  -S                       Compile only; do not assemble or link\r\n",
      "  -c                       Compile and assemble, but do not link\r\n",
      "  -o <file>                Place the output into <file>\r\n",
      "  -pie                     Create a position independent executable\r\n",
      "  -shared                  Create a shared library\r\n",
      "  -x <language>            Specify the language of the following input files\r\n",
      "                           Permissible languages include: c c++ assembler none\r\n",
      "                           'none' means revert to the default behavior of\r\n",
      "                           guessing the language based on the file's extension\r\n",
      "\r\n",
      "Options starting with -g, -f, -m, -O, -W, or --param are automatically\r\n",
      " passed on to the various sub-processes invoked by g++.  In order to pass\r\n",
      " other options on to these processes the -W<letter> options must be used.\r\n",
      "\r\n",
      "For bug reporting instructions, please see:\r\n",
      "<file:///usr/share/doc/gcc-5/README.Bugs>.\r\n"
     ]
    }
   ],
   "source": [
    "!g++ --help"
   ]
  },
  {
   "cell_type": "code",
   "execution_count": 10,
   "metadata": {},
   "outputs": [
    {
     "name": "stdout",
     "output_type": "stream",
     "text": [
      "\u001b[01m\u001b[Kg++:\u001b[m\u001b[K \u001b[01;31m\u001b[Kerror: \u001b[m\u001b[Kunrecognized command line option ‘\u001b[01m\u001b[K-h\u001b[m\u001b[K’\r\n",
      "\u001b[01m\u001b[Kg++:\u001b[m\u001b[K \u001b[01;31m\u001b[Kfatal error: \u001b[m\u001b[Kno input files\r\n",
      "compilation terminated.\r\n"
     ]
    }
   ],
   "source": [
    "!g++ -shared -help"
   ]
  },
  {
   "cell_type": "code",
   "execution_count": 1,
   "metadata": {},
   "outputs": [],
   "source": [
    "import tensorflow as tf"
   ]
  },
  {
   "cell_type": "code",
   "execution_count": 3,
   "metadata": {},
   "outputs": [
    {
     "data": {
      "text/plain": [
       "['/usr/local/lib/python3.5/dist-packages/tensorflow_estimator/python/estimator/api',\n",
       " '/usr/local/lib/python3.5/dist-packages/tensorflow',\n",
       " '/usr/local/lib/python3.5/dist-packages/tensorflow/_api/v1']"
      ]
     },
     "execution_count": 3,
     "metadata": {},
     "output_type": "execute_result"
    }
   ],
   "source": [
    "tf.__path__"
   ]
  },
  {
   "cell_type": "code",
   "execution_count": null,
   "metadata": {},
   "outputs": [],
   "source": []
  }
 ],
 "metadata": {
  "kernelspec": {
   "display_name": "Python 3",
   "language": "python",
   "name": "python3"
  },
  "language_info": {
   "codemirror_mode": {
    "name": "ipython",
    "version": 3
   },
   "file_extension": ".py",
   "mimetype": "text/x-python",
   "name": "python",
   "nbconvert_exporter": "python",
   "pygments_lexer": "ipython3",
   "version": "3.6.8"
  }
 },
 "nbformat": 4,
 "nbformat_minor": 2
}
